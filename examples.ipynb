{
 "cells": [
  {
   "cell_type": "markdown",
   "metadata": {},
   "source": [
    "# Examples"
   ]
  },
  {
   "cell_type": "markdown",
   "metadata": {
    "toc": true
   },
   "source": [
    "<h1>Table of Contents<span class=\"tocSkip\"></span></h1>\n",
    "<div class=\"toc\"><ul class=\"toc-item\"><li><span><a href=\"#Import-Statements\" data-toc-modified-id=\"Import-Statements-1\"><span class=\"toc-item-num\">1&nbsp;&nbsp;</span>Import Statements</a></span></li><li><span><a href=\"#Error-in-Cylinder\" data-toc-modified-id=\"Error-in-Cylinder-2\"><span class=\"toc-item-num\">2&nbsp;&nbsp;</span>Error in Cylinder</a></span><ul class=\"toc-item\"><li><span><a href=\"#Error-Solver-using-Sympy\" data-toc-modified-id=\"Error-Solver-using-Sympy-2.1\"><span class=\"toc-item-num\">2.1&nbsp;&nbsp;</span>Error Solver using Sympy</a></span></li><li><span><a href=\"#Error-Solver-using-Written-Module\" data-toc-modified-id=\"Error-Solver-using-Written-Module-2.2\"><span class=\"toc-item-num\">2.2&nbsp;&nbsp;</span>Error Solver using Written Module</a></span></li></ul></li></ul></div>"
   ]
  },
  {
   "cell_type": "markdown",
   "metadata": {},
   "source": [
    "## Import Statements"
   ]
  },
  {
   "cell_type": "code",
   "execution_count": 1,
   "metadata": {},
   "outputs": [],
   "source": [
    "import os\n",
    "import numpy as np\n",
    "from math import *\n",
    "from error_solver import ErrorSolver, ErrorSolver2\n",
    "from error_solver.data import DATA_FOLDER"
   ]
  },
  {
   "cell_type": "markdown",
   "metadata": {},
   "source": [
    "## Error in Cylinder\n",
    "\n",
    "The below example determines the tolerances for the cross sectional area $(A)$ and volume $(V)$ of a cylinder given the measurement tolerances for the radius $(r)$ and height $(h)$."
   ]
  },
  {
   "cell_type": "code",
   "execution_count": 2,
   "metadata": {},
   "outputs": [],
   "source": [
    "# Variables     Value         Tolerance\n",
    "r, rtol     =   5,            0.05\n",
    "h, htol     =   12,           0.05\n",
    "A, Atol     =   pi * r**2,    None\n",
    "V, Vtol     =   A * h,        None\n",
    "\n",
    "# List of equations\n",
    "equations = ['A = pi * r**2',\n",
    "             'V = A * h']\n",
    "\n",
    "# Dictionaries of variables\n",
    "values = {'h': h,\n",
    "          'r': r,\n",
    "          'A': A,\n",
    "          'V': V}\n",
    "\n",
    "errors = {'h': rtol,\n",
    "          'r': htol}"
   ]
  },
  {
   "cell_type": "markdown",
   "metadata": {},
   "source": [
    "### Error Solver using Sympy"
   ]
  },
  {
   "cell_type": "code",
   "execution_count": 3,
   "metadata": {},
   "outputs": [
    {
     "name": "stdout",
     "output_type": "stream",
     "text": [
      " Variable | Value | Error Tolerance | Percent Error | Unknown \n",
      "    h     |  12   |      0.05       |     0.42      |  False  \n",
      "    r     |   5   |      0.05       |     1.00      |  False  \n",
      "    A     | 78.54 |      1.571      |     2.00      |  True   \n",
      "    V     | 942.5 |      22.78      |     2.42      |  True   \n",
      "7.96 ms ± 933 µs per loop (mean ± std. dev. of 7 runs, 100 loops each)\n"
     ]
    }
   ],
   "source": [
    "solver = ErrorSolver(equations, values, errors)\n",
    "solution = solver.solve()\n",
    "\n",
    "print(solution['summary'])\n",
    "t1 = %timeit -o solver.solve()"
   ]
  },
  {
   "cell_type": "markdown",
   "metadata": {},
   "source": [
    "### Error Solver using Written Module\n",
    "\n",
    "An alternate error solver is available that does not rely on sympy and is more efficient. However, it requires that functions for the partial derivatives be provided to the initializer. Fortunately, the previous error solver class can be used to write a python module with the requisite functions.\n",
    "\n",
    "The following methods can be used to develop the module:"
   ]
  },
  {
   "cell_type": "code",
   "execution_count": 4,
   "metadata": {},
   "outputs": [
    {
     "name": "stdout",
     "output_type": "stream",
     "text": [
      "\"\"\"\n",
      "Error Solver Function Module\n",
      "\n",
      "Equations:\n",
      "    0 : A - pi*r**2\n",
      "    1 : -A*h + V\n",
      "\"\"\"\n",
      "\n",
      "from math import *\n",
      "\n",
      "# Equation 0\n",
      "def eq0(A, r, **kwargs):\n",
      "    return A - pi*r**2\n",
      "\n",
      "def eq0_A(A, r, **kwargs):\n",
      "    return 1\n",
      "\n",
      "def eq0_r(A, r, **kwargs):\n",
      "    return -2*pi*r\n",
      "\n",
      "# Equation 1\n",
      "def eq1(A, V, h, **kwargs):\n",
      "    return -A*h + V\n",
      "\n",
      "def eq1_h(A, V, h, **kwargs):\n",
      "    return -A\n",
      "\n",
      "def eq1_A(A, V, h, **kwargs):\n",
      "    return -h\n",
      "\n",
      "def eq1_V(A, V, h, **kwargs):\n",
      "    return 1\n",
      "\n",
      "# Assembled Methods\n",
      "EQUATIONS = [eq0,\n",
      "             eq1]\n",
      "\n",
      "PARTIALS = [{'A' : eq0_A, 'r' : eq0_r},\n",
      "            {'h' : eq1_h, 'A' : eq1_A, 'V' : eq1_V}]\n"
     ]
    }
   ],
   "source": [
    "path = os.path.join(DATA_FOLDER, 'cylinder_error.py')\n",
    "names = {} # Substitute variable names if desired\n",
    "print(solver.module_str(names))\n",
    "solver.write_module(path, names)"
   ]
  },
  {
   "cell_type": "markdown",
   "metadata": {},
   "source": [
    "Since the module was developed using an error solver, the `init_from_module()` method can be used to instantiate the new class."
   ]
  },
  {
   "cell_type": "code",
   "execution_count": 5,
   "metadata": {
    "scrolled": true
   },
   "outputs": [
    {
     "name": "stdout",
     "output_type": "stream",
     "text": [
      " Variable | Value | Error Tolerance | Percent Error | Unknown \n",
      "    h     |  12   |      0.05       |     0.42      |  False  \n",
      "    r     |   5   |      0.05       |     1.00      |  False  \n",
      "    A     | 78.54 |      1.571      |     2.00      |  True   \n",
      "    V     | 942.5 |      22.78      |     2.42      |  True   \n",
      "551 µs ± 55.6 µs per loop (mean ± std. dev. of 7 runs, 1000 loops each)\n"
     ]
    }
   ],
   "source": [
    "import error_solver.data.cylinder_error as cylinder_error\n",
    "\n",
    "solver2 = ErrorSolver2.init_from_module(cylinder_error, values, errors)\n",
    "solution2 = solver2.solve()\n",
    "\n",
    "print(solution2['summary'])\n",
    "t2 = %timeit -o solver2.solve()"
   ]
  },
  {
   "cell_type": "code",
   "execution_count": 6,
   "metadata": {},
   "outputs": [
    {
     "name": "stdout",
     "output_type": "stream",
     "text": [
      "For this example, the ErrorSolver2 class is 14x more efficient than ErrorSolver.\n"
     ]
    }
   ],
   "source": [
    "print('For this example, the ErrorSolver2 class is {:.0f}x more efficient than ErrorSolver.'.format(np.mean(t1.timings) / np.mean(t2.timings)))"
   ]
  }
 ],
 "metadata": {
  "hide_input": false,
  "kernelspec": {
   "display_name": "Python 3",
   "language": "python",
   "name": "python3"
  },
  "language_info": {
   "codemirror_mode": {
    "name": "ipython",
    "version": 3
   },
   "file_extension": ".py",
   "mimetype": "text/x-python",
   "name": "python",
   "nbconvert_exporter": "python",
   "pygments_lexer": "ipython3",
   "version": "3.6.5"
  },
  "toc": {
   "base_numbering": 1,
   "nav_menu": {},
   "number_sections": true,
   "sideBar": true,
   "skip_h1_title": true,
   "title_cell": "Table of Contents",
   "title_sidebar": "Contents",
   "toc_cell": true,
   "toc_position": {},
   "toc_section_display": true,
   "toc_window_display": false
  },
  "varInspector": {
   "cols": {
    "lenName": 16,
    "lenType": 16,
    "lenVar": 40
   },
   "kernels_config": {
    "python": {
     "delete_cmd_postfix": "",
     "delete_cmd_prefix": "del ",
     "library": "var_list.py",
     "varRefreshCmd": "print(var_dic_list())"
    },
    "r": {
     "delete_cmd_postfix": ") ",
     "delete_cmd_prefix": "rm(",
     "library": "var_list.r",
     "varRefreshCmd": "cat(var_dic_list()) "
    }
   },
   "types_to_exclude": [
    "module",
    "function",
    "builtin_function_or_method",
    "instance",
    "_Feature"
   ],
   "window_display": false
  }
 },
 "nbformat": 4,
 "nbformat_minor": 2
}
