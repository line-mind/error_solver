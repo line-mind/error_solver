{
 "cells": [
  {
   "cell_type": "markdown",
   "metadata": {},
   "source": [
    "# Examples"
   ]
  },
  {
   "cell_type": "markdown",
   "metadata": {
    "toc": true
   },
   "source": [
    "<h1>Table of Contents<span class=\"tocSkip\"></span></h1>\n",
    "<div class=\"toc\"><ul class=\"toc-item\"><li><span><a href=\"#Error-in-Cylinder\" data-toc-modified-id=\"Error-in-Cylinder-1\"><span class=\"toc-item-num\">1&nbsp;&nbsp;</span>Error in Cylinder</a></span></li><li><span><a href=\"#Error-in-Tapered-Cylinder\" data-toc-modified-id=\"Error-in-Tapered-Cylinder-2\"><span class=\"toc-item-num\">2&nbsp;&nbsp;</span>Error in Tapered Cylinder</a></span></li></ul></div>"
   ]
  },
  {
   "cell_type": "markdown",
   "metadata": {},
   "source": [
    "### Error in Cylinder\n",
    "\n",
    "The below example determines the tolerances for the cross sectional area $(A)$ and volume $(V)$ of a cylinder given the measurement tolerances for the radius $(r)$ and height $(h)$."
   ]
  },
  {
   "cell_type": "code",
   "execution_count": 1,
   "metadata": {},
   "outputs": [
    {
     "name": "stdout",
     "output_type": "stream",
     "text": [
      " Variable | Value | Error Tolerance | Percent Error | Unknown \n",
      "    h     |  12   |      0.05       |     0.42      |  False  \n",
      "    r     |   5   |      0.05       |     1.00      |  False  \n",
      "    A     | 78.54 |      1.571      |     2.00      |  True   \n",
      "    V     | 942.5 |      22.78      |     2.42      |  True   \n"
     ]
    }
   ],
   "source": [
    "from math import pi\n",
    "from error_solver import ErrorSolver\n",
    "\n",
    "# Variables     Value         Tolerance\n",
    "r, rtol     =   5,            0.05\n",
    "h, htol     =   12,           0.05\n",
    "A, Atol     =   pi * r**2,    None\n",
    "V, Vtol     =   A * h,        None\n",
    "\n",
    "# List of equations\n",
    "equations = ['A = pi * r**2',\n",
    "             'V = A * h']\n",
    "\n",
    "# Dictionaries of variables\n",
    "values = {'h': h,\n",
    "          'r': r,\n",
    "          'A': A,\n",
    "          'V': V}\n",
    "\n",
    "errors = {'h': rtol,\n",
    "          'r': htol}\n",
    "\n",
    "solver = ErrorSolver(equations, values, errors)\n",
    "solution = solver.solve()\n",
    "\n",
    "print(solution['summary'])"
   ]
  },
  {
   "cell_type": "markdown",
   "metadata": {},
   "source": [
    "### Error in Tapered Cylinder\n",
    "\n",
    "The below example determines the tolerances for the cross sectional areas $(A_1, A_2)$ and volume $(V)$ of a cylinder given the measurement tolerances for the radii $(r_1, r_2)$ and height $(h)$."
   ]
  },
  {
   "cell_type": "code",
   "execution_count": 2,
   "metadata": {},
   "outputs": [
    {
     "name": "stdout",
     "output_type": "stream",
     "text": [
      " Variable | Value | Error Tolerance | Percent Error | Unknown \n",
      "    h     |  12   |      0.05       |     0.42      |  False  \n",
      "    r1    |   2   |      0.05       |     2.50      |  False  \n",
      "    r2    |   5   |      0.05       |     1.00      |  False  \n",
      "    A1    | 12.57 |     0.6283      |     5.00      |  True   \n",
      "    A2    | 78.54 |      1.571      |     2.00      |  True   \n",
      "    V     | 546.6 |      15.47      |     2.83      |  True   \n"
     ]
    }
   ],
   "source": [
    "from math import pi\n",
    "from error_solver import ErrorSolver\n",
    "\n",
    "# Variables     Value             Tolerance\n",
    "h, htol     =   12,               0.05\n",
    "r1, r1tol   =   2,                0.05\n",
    "r2, r2tol   =   5,                0.05\n",
    "A1, A1tol   =   pi * r1**2,       None\n",
    "A2, A2tol   =   pi * r2**2,       None\n",
    "V, Vtol     =   0.5*(A1 + A2)*h,  None\n",
    "\n",
    "# List of equations\n",
    "equations = ['A1 = pi * r1**2',\n",
    "             'A2 = pi * r2**2',\n",
    "             'V = 0.5*(A1 + A2)*h']\n",
    "\n",
    "# Dictionaries of variables\n",
    "values = {'h' : h,\n",
    "          'r1': r1,\n",
    "          'r2': r2,\n",
    "          'A1': A1,\n",
    "          'A2': A2,\n",
    "          'V' : V}\n",
    "\n",
    "errors = {'h': htol,\n",
    "          'r1': r1tol,\n",
    "          'r2': r2tol}\n",
    "\n",
    "solver = ErrorSolver(equations, values, errors)\n",
    "solution = solver.solve()\n",
    "\n",
    "print(solution['summary'])"
   ]
  }
 ],
 "metadata": {
  "hide_input": false,
  "kernelspec": {
   "display_name": "Python 3",
   "language": "python",
   "name": "python3"
  },
  "language_info": {
   "codemirror_mode": {
    "name": "ipython",
    "version": 3
   },
   "file_extension": ".py",
   "mimetype": "text/x-python",
   "name": "python",
   "nbconvert_exporter": "python",
   "pygments_lexer": "ipython3",
   "version": "3.6.5"
  },
  "toc": {
   "base_numbering": 1,
   "nav_menu": {},
   "number_sections": true,
   "sideBar": true,
   "skip_h1_title": true,
   "title_cell": "Table of Contents",
   "title_sidebar": "Contents",
   "toc_cell": true,
   "toc_position": {},
   "toc_section_display": true,
   "toc_window_display": false
  },
  "varInspector": {
   "cols": {
    "lenName": 16,
    "lenType": 16,
    "lenVar": 40
   },
   "kernels_config": {
    "python": {
     "delete_cmd_postfix": "",
     "delete_cmd_prefix": "del ",
     "library": "var_list.py",
     "varRefreshCmd": "print(var_dic_list())"
    },
    "r": {
     "delete_cmd_postfix": ") ",
     "delete_cmd_prefix": "rm(",
     "library": "var_list.r",
     "varRefreshCmd": "cat(var_dic_list()) "
    }
   },
   "types_to_exclude": [
    "module",
    "function",
    "builtin_function_or_method",
    "instance",
    "_Feature"
   ],
   "window_display": false
  }
 },
 "nbformat": 4,
 "nbformat_minor": 2
}
