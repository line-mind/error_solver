{
 "cells": [
  {
   "cell_type": "markdown",
   "metadata": {},
   "source": [
    "# Example\n",
    "\n",
    "The below example determines the tolerances for the cross sectional area $(A)$ and volume $(V)$ of a cylinder given the measurement tolerances for the radius $(r)$ and height $(h)$."
   ]
  },
  {
   "cell_type": "code",
   "execution_count": 1,
   "metadata": {},
   "outputs": [
    {
     "name": "stdout",
     "output_type": "stream",
     "text": [
      "Variable   Value                     Error Tolerance           Percent Error            \n",
      "h          12                        0.05                      0.4166666666666667       \n",
      "r          5                         0.05                      1.0                      \n",
      "A          78.54                     1.5707963267948966        1.9999953231409429       \n",
      "V          942.48                    22.77655592153876         2.416661989807609        \n"
     ]
    }
   ],
   "source": [
    "from error_solver import ErrorSolver\n",
    "\n",
    "# Provide the list of equations.\n",
    "equations = ['A = pi * r**2',\n",
    "             'V = A * h']\n",
    "\n",
    "# Provide a dictionary of variables : (values, tolerances)\n",
    "# Note that you will need to solve for values in advance.\n",
    "variables = {'h': (12, 0.05),\n",
    "             'r': (5, 0.05),\n",
    "             'A': (78.54, None),\n",
    "             'V': (942.48, None)}\n",
    "\n",
    "solver = ErrorSolver(equations, variables)\n",
    "solution = solver.solve()\n",
    "\n",
    "print(solution.summary)"
   ]
  }
 ],
 "metadata": {
  "kernelspec": {
   "display_name": "Python 3",
   "language": "python",
   "name": "python3"
  },
  "language_info": {
   "codemirror_mode": {
    "name": "ipython",
    "version": 3
   },
   "file_extension": ".py",
   "mimetype": "text/x-python",
   "name": "python",
   "nbconvert_exporter": "python",
   "pygments_lexer": "ipython3",
   "version": "3.6.4"
  }
 },
 "nbformat": 4,
 "nbformat_minor": 2
}
