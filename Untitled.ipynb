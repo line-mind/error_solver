{
 "cells": [
  {
   "cell_type": "markdown",
   "metadata": {},
   "source": [
    "# Testing Header"
   ]
  },
  {
   "cell_type": "markdown",
   "metadata": {},
   "source": [
    "## Section 1\n",
    "\n",
    "This is a list\n",
    "* Hello\n",
    "* World\n",
    "\n",
    "$ A = \\pi r^2 $"
   ]
  },
  {
   "cell_type": "code",
   "execution_count": 4,
   "metadata": {},
   "outputs": [
    {
     "name": "stdout",
     "output_type": "stream",
     "text": [
      "equations :\n",
      " [A - pi*r**2, -A*h + V] \n",
      "\n",
      "errors :\n",
      " {'A': 1.5707963267948966, 'V': 22.77655592153876, 'h': 0.05, 'r': 0.05} \n",
      "\n",
      "known :\n",
      " ['h', 'r'] \n",
      "\n",
      "known_errors :\n",
      " {'h': 0.05, 'r': 0.05} \n",
      "\n",
      "known_matrix :\n",
      " [[  0.         -31.41592654]\n",
      " [-78.54         0.        ]] \n",
      "\n",
      "matrix :\n",
      " [[  1.           0.           0.         -31.41592654]\n",
      " [-12.           1.         -78.54         0.        ]] \n",
      "\n",
      "partials :\n",
      " [{'r': -2*pi*r, 'A': 1}, {'V': 1, 'h': -A, 'A': -h}] \n",
      "\n",
      "percent_errors :\n",
      " {'A': 1.9999953231409429, 'V': 2.416661989807609, 'h': 0.4166666666666667, 'r': 1.0} \n",
      "\n",
      "unknown :\n",
      " ['A', 'V'] \n",
      "\n",
      "unknown_errors :\n",
      " {'A': 1.5707963267948966, 'V': 22.77655592153876} \n",
      "\n",
      "unknown_matrix :\n",
      " [[  1.   0.]\n",
      " [-12.   1.]] \n",
      "\n",
      "values :\n",
      " {'h': 12, 'r': 5, 'A': 78.54, 'V': 942.48} \n",
      "\n",
      "variables :\n",
      " ['A', 'V', 'h', 'r'] \n",
      "\n"
     ]
    }
   ],
   "source": [
    "from error_solver import ErrorSolver\n",
    "\n",
    "equations = ['A = pi * r**2',\n",
    "             'V = A * h']\n",
    "\n",
    "variables = {'h': (12, 0.05),\n",
    "             'r': (5, 0.05),\n",
    "             'A': (78.54, None),\n",
    "             'V': (942.48, None)}\n",
    "\n",
    "solver = ErrorSolver(equations, variables)\n",
    "\n",
    "s = solver.solve()\n",
    "\n",
    "for x in sorted(vars(s)):\n",
    "    print(x, ':\\n', s.__dict__[x], '\\n')"
   ]
  },
  {
   "cell_type": "code",
   "execution_count": 29,
   "metadata": {},
   "outputs": [
    {
     "data": {
      "text/plain": [
       "[-0.5*Ta - 0.5*Tc + Tfilm,\n",
       " -D*Df*Vw/Muf + Re,\n",
       " Muf - 1.458e-6*(Tfilm + 273)**1.5/(Tfilm + 383.4),\n",
       " Df - (6.379e-9*Hc**2 - 0.0001525*Hc + 1.293)/(0.00367*Tfilm + 1),\n",
       " Kf + 4.407e-9*Tfilm**2 - 7.477e-5*Tfilm - 0.02424,\n",
       " Caz + Phi - Waz,\n",
       " Kangle - 0.368*sin(2*Phi) + cos(Phi) - 0.194*cos(2*Phi) - 1.194]"
      ]
     },
     "execution_count": 29,
     "metadata": {},
     "output_type": "execute_result"
    }
   ],
   "source": [
    "equations = ['Tfilm = 0.5*(Tc+Ta)',\n",
    "             'Re = D*Df*Vw/Muf',\n",
    "             'Muf = (1.458e-6*(Tfilm+273)**1.5)/(Tfilm+383.4)',\n",
    "             'Df = (1.293-1.525e-4*Hc+6.379e-9*Hc**2)/(1+0.00367*Tfilm)',\n",
    "             'Kf = 2.424e-2+7.477e-5*Tfilm-4.407e-9*Tfilm**2',\n",
    "             'Phi = Waz-Caz',\n",
    "             'Kangle = 1.194 - cos(Phi) + 0.194*cos(2*Phi) + 0.368*sin(2*Phi)',\n",
    "             'Omega = (Hr-12)*15',\n",
    "             'Hc = asin(cos(Lat)*cos(Delta)*cos(Omega) + sin(Lat)*sin(Delta))',\n",
    "             'Delta = 23.4583*sin((284 + N)*2*pi/365)',\n",
    "             'Chi = sin(Omega)/(sin(Lat)*cos(Omega) - cos(Lat)*tan(Delta))',\n",
    "             'Zc = C + atan(Chi)',\n",
    "             'Theta = acos(cos(Hc)*cos(Zc-Zl))',\n",
    "             'Qs = A*Qse*sin(Theta)*Ap',\n",
    "             'I = ((Qc+Qr-Qs)/R)**0.5',\n",
    "             'Qr = 0.0178*D*E*((Tc+273)**4 - (Ta+273)**4)/(100**4)',\n",
    "             'Qcn = 0.0205*(Df**0.5)*(D**0.75)*((Tc-Ta)**1.25)',\n",
    "             'F = 1 + 1.148e-4*Hc - 1.108e-8*Hc**2']\n",
    "\n",
    "qcf1 = 'Qcf = (1.01 + 1.347*(Re**0.52))*Kf*Kangle*(Tc-Ta)'\n",
    "qcf2 = 'Qcf = 0.754*(Re**0.6)*Kf*Kangle*(Tc-Ta)'\n",
    "\n",
    "clear = 'Qse = (-42.2391 + 63.8044*Hc - 1.9220*Hc**2 + 3.46921e-2*Hc**3 - 3.61118e-4*Hc**4 + 1.94318e-6*Hc**5 - 4.07608e-9*Hc**6)*F'\n",
    "indust = 'Qse = (53.1821 + 14.2110*Hc + 6.6138e-1*Hc**2 - 3.1658e-2*Hc**3 + 5.4654e-4*Hc**4 - 4.3446e-6*Hc**5 + 1.3236e-8*Hc**6)*F'\n",
    "\n",
    "variables = {'h': (12, 0.05),\n",
    "             'r': (5, 0.05),\n",
    "             'A': (78.54, None),\n",
    "             'V': (942.48, None)}\n",
    "\n",
    "solver = ErrorSolver(equations, variables)\n",
    "solver.equations"
   ]
  },
  {
   "cell_type": "code",
   "execution_count": 40,
   "metadata": {},
   "outputs": [
    {
     "data": {
      "text/latex": [
       "$\\mathrm{\\frac{W}{m^{2}}}$"
      ],
      "text/plain": [
       "Unit(\"W / m2\")"
      ]
     },
     "execution_count": 40,
     "metadata": {},
     "output_type": "execute_result"
    }
   ],
   "source": [
    "import astropy.units as u\n",
    "u.W/u.m**2"
   ]
  }
 ],
 "metadata": {
  "kernelspec": {
   "display_name": "Python 3",
   "language": "python",
   "name": "python3"
  },
  "language_info": {
   "codemirror_mode": {
    "name": "ipython",
    "version": 3
   },
   "file_extension": ".py",
   "mimetype": "text/x-python",
   "name": "python",
   "nbconvert_exporter": "python",
   "pygments_lexer": "ipython3",
   "version": "3.6.4"
  }
 },
 "nbformat": 4,
 "nbformat_minor": 2
}
