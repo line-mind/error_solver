{
 "cells": [
  {
   "cell_type": "markdown",
   "metadata": {},
   "source": [
    "# ERROR SOLVER\n",
    "\n",
    "## Purpose\n",
    "\n",
    "This package contains a class for estimating the error tolerances for\n",
    "a system of equations using the total derivative.\n",
    "\n",
    "## Installation\n",
    "\n",
    "This package may be installed via pip:\n",
    "\n",
    "```\n",
    "pip install git+https://github.com/line-mind/error_solver#egg=error_solver\n",
    "```\n",
    "\n",
    "## Requirements\n",
    "\n",
    "This package has the following dependencies:\n",
    "\n",
    "  * `numpy`\n",
    "  * `sympy`\n",
    "\n",
    "## Examples\n",
    "\n",
    "### Import Statements"
   ]
  },
  {
   "cell_type": "code",
   "execution_count": 1,
   "metadata": {},
   "outputs": [],
   "source": [
    "from error_solver import ErrorSolver"
   ]
  },
  {
   "cell_type": "markdown",
   "metadata": {},
   "source": [
    "### Error in Cylinder\n",
    "\n",
    "The below example determines the tolerances for the cross sectional area $(A)$ and volume $(V)$ of a cylinder given the measurement tolerances for the radius $(r)$ and height $(h)$."
   ]
  },
  {
   "cell_type": "code",
   "execution_count": 2,
   "metadata": {},
   "outputs": [
    {
     "name": "stdout",
     "output_type": "stream",
     "text": [
      "Variable   Value                     Error Tolerance           Percent Error            \n",
      "A          78.53981633974483         1.5707963267948966        2.0                      \n",
      "V          942.4777960769379         22.776546738526           2.4166666666666665       \n",
      "h          12                        0.05                      0.4166666666666667       \n",
      "r          5                         0.05                      1.0                      \n"
     ]
    }
   ],
   "source": [
    "from math import pi\n",
    "\n",
    "# Variables     Value         Tolerance (None if unknown to be solved for)\n",
    "r, rtol     =   5,            0.05\n",
    "h, htol     =   12,           0.05\n",
    "A, Atol     =   pi * r**2,    None\n",
    "V, Vtol     =   A * h,        None\n",
    "\n",
    "# List of equations.\n",
    "equations = ['A = pi * r**2',\n",
    "             'V = A * h']\n",
    "\n",
    "# Dictionary of variables : (values, tolerances)\n",
    "variables = {'h': (h, rtol),\n",
    "             'r': (r, htol),\n",
    "             'A': (A, Atol),\n",
    "             'V': (V, Vtol)}\n",
    "\n",
    "solver = ErrorSolver(equations, variables)\n",
    "solution = solver.solve()\n",
    "\n",
    "print(solution.summary)"
   ]
  },
  {
   "cell_type": "markdown",
   "metadata": {},
   "source": [
    "### Error in Tapered Cylinder\n",
    "\n",
    "The below example determines the tolerances for the cross sectional areas $(A_1, A_2)$ and volume $(V)$ of a cylinder given the measurement tolerances for the radii $(r_1, r_2)$ and height $(h)$."
   ]
  },
  {
   "cell_type": "code",
   "execution_count": 3,
   "metadata": {},
   "outputs": [
    {
     "name": "stdout",
     "output_type": "stream",
     "text": [
      "Variable   Value                     Error Tolerance           Percent Error            \n",
      "A1         12.566370614359172        0.6283185307179586        5.0                      \n",
      "A2         78.53981633974483         1.5707963267948966        2.0                      \n",
      "V          546.637121724624          15.472343818929732        2.830459770114943        \n",
      "h          12                        0.05                      0.4166666666666667       \n",
      "r1         2                         0.05                      2.5                      \n",
      "r2         5                         0.05                      1.0                      \n"
     ]
    }
   ],
   "source": [
    "from math import pi\n",
    "\n",
    "# Variables     Value             Tolerance (None if unknown to be solved for)\n",
    "h, htol     =   12,               0.05\n",
    "r1, r1tol   =   2,                0.05\n",
    "r2, r2tol   =   5,                0.05\n",
    "A1, A1tol   =   pi * r1**2,       None\n",
    "A2, A2tol   =   pi * r2**2,       None\n",
    "V, Vtol     =   0.5*(A1 + A2)*h,  None\n",
    "\n",
    "# List of equations.\n",
    "equations = ['A1 = pi * r1**2',\n",
    "             'A2 = pi * r2**2',\n",
    "             'V = 0.5*(A1 + A2)*h']\n",
    "\n",
    "# Dictionary of variables : (values, tolerances)\n",
    "variables = {'h' : (h,  htol),\n",
    "             'r1': (r1, r1tol),\n",
    "             'r2': (r2, r2tol),\n",
    "             'A1': (A1, A1tol),\n",
    "             'A2': (A2, A2tol),\n",
    "             'V' : (V,  Vtol)}\n",
    "\n",
    "solver = ErrorSolver(equations, variables)\n",
    "solution = solver.solve()\n",
    "\n",
    "print(solution.summary)"
   ]
  }
 ],
 "metadata": {
  "kernelspec": {
   "display_name": "Python 3",
   "language": "python",
   "name": "python3"
  },
  "language_info": {
   "codemirror_mode": {
    "name": "ipython",
    "version": 3
   },
   "file_extension": ".py",
   "mimetype": "text/x-python",
   "name": "python",
   "nbconvert_exporter": "python",
   "pygments_lexer": "ipython3",
   "version": "3.6.4"
  }
 },
 "nbformat": 4,
 "nbformat_minor": 2
}
